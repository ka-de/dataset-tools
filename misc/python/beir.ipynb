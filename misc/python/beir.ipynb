{
 "cells": [
  {
   "cell_type": "code",
   "execution_count": 2,
   "metadata": {},
   "outputs": [
    {
     "name": "stdout",
     "output_type": "stream",
     "text": [
      "2024-07-11 23:58:03 - Downloading scifact.zip ...\n"
     ]
    },
    {
     "data": {
      "application/vnd.jupyter.widget-view+json": {
       "model_id": "a16f3200098c48f58bcf5d31a95e5d5f",
       "version_major": 2,
       "version_minor": 0
      },
      "text/plain": [
       "C:\\Users\\kade\\datasets\\datasets\\scifact.zip:   0%|          | 0.00/2.69M [00:00<?, ?iB/s]"
      ]
     },
     "metadata": {},
     "output_type": "display_data"
    },
    {
     "name": "stdout",
     "output_type": "stream",
     "text": [
      "2024-07-11 23:58:09 - Unzipping scifact.zip ...\n",
      "2024-07-11 23:58:09 - Loading Corpus...\n"
     ]
    },
    {
     "data": {
      "application/vnd.jupyter.widget-view+json": {
       "model_id": "105589455363464299b0f98b5c59ba40",
       "version_major": 2,
       "version_minor": 0
      },
      "text/plain": [
       "  0%|          | 0/5183 [00:00<?, ?it/s]"
      ]
     },
     "metadata": {},
     "output_type": "display_data"
    },
    {
     "name": "stdout",
     "output_type": "stream",
     "text": [
      "2024-07-11 23:58:09 - Loaded 5183 TEST Documents.\n",
      "2024-07-11 23:58:09 - Doc Example: {'text': 'Alterations of the architecture of cerebral white matter in the developing human brain can affect cortical development and result in functional disabilities. A line scan diffusion-weighted magnetic resonance imaging (MRI) sequence with diffusion tensor analysis was applied to measure the apparent diffusion coefficient, to calculate relative anisotropy, and to delineate three-dimensional fiber architecture in cerebral white matter in preterm (n = 17) and full-term infants (n = 7). To assess effects of prematurity on cerebral white matter development, early gestation preterm infants (n = 10) were studied a second time at term. In the central white matter the mean apparent diffusion coefficient at 28 wk was high, 1.8 microm2/ms, and decreased toward term to 1.2 microm2/ms. In the posterior limb of the internal capsule, the mean apparent diffusion coefficients at both times were similar (1.2 versus 1.1 microm2/ms). Relative anisotropy was higher the closer birth was to term with greater absolute values in the internal capsule than in the central white matter. Preterm infants at term showed higher mean diffusion coefficients in the central white matter (1.4 +/- 0.24 versus 1.15 +/- 0.09 microm2/ms, p = 0.016) and lower relative anisotropy in both areas compared with full-term infants (white matter, 10.9 +/- 0.6 versus 22.9 +/- 3.0%, p = 0.001; internal capsule, 24.0 +/- 4.44 versus 33.1 +/- 0.6% p = 0.006). Nonmyelinated fibers in the corpus callosum were visible by diffusion tensor MRI as early as 28 wk; full-term and preterm infants at term showed marked differences in white matter fiber organization. The data indicate that quantitative assessment of water diffusion by diffusion tensor MRI provides insight into microstructural development in cerebral white matter in living infants.', 'title': 'Microstructural development of human newborn cerebral white matter assessed in vivo by diffusion tensor magnetic resonance imaging.'}\n",
      "2024-07-11 23:58:09 - Loading Queries...\n",
      "2024-07-11 23:58:09 - Loaded 300 TEST Queries.\n",
      "2024-07-11 23:58:09 - Query Example: 0-dimensional biomaterials show inductive properties.\n",
      "2024-07-11 23:58:10 - Use pytorch device_name: cpu\n",
      "2024-07-11 23:58:10 - Load pretrained SentenceTransformer: msmarco-distilbert-base-tas-b\n"
     ]
    },
    {
     "data": {
      "application/vnd.jupyter.widget-view+json": {
       "model_id": "40c8929b8a8441eba57f6985698f64dc",
       "version_major": 2,
       "version_minor": 0
      },
      "text/plain": [
       "modules.json:   0%|          | 0.00/229 [00:00<?, ?B/s]"
      ]
     },
     "metadata": {},
     "output_type": "display_data"
    },
    {
     "data": {
      "application/vnd.jupyter.widget-view+json": {
       "model_id": "d23e478d840a4ab39dd9aed644e6e0ff",
       "version_major": 2,
       "version_minor": 0
      },
      "text/plain": [
       "config_sentence_transformers.json:   0%|          | 0.00/122 [00:00<?, ?B/s]"
      ]
     },
     "metadata": {},
     "output_type": "display_data"
    },
    {
     "data": {
      "application/vnd.jupyter.widget-view+json": {
       "model_id": "d9d727adc4b149b2a910ce7aa66b50b9",
       "version_major": 2,
       "version_minor": 0
      },
      "text/plain": [
       "README.md:   0%|          | 0.00/4.02k [00:00<?, ?B/s]"
      ]
     },
     "metadata": {},
     "output_type": "display_data"
    },
    {
     "data": {
      "application/vnd.jupyter.widget-view+json": {
       "model_id": "af08bb03b0864bdc9b787710fdbde2b4",
       "version_major": 2,
       "version_minor": 0
      },
      "text/plain": [
       "sentence_bert_config.json:   0%|          | 0.00/53.0 [00:00<?, ?B/s]"
      ]
     },
     "metadata": {},
     "output_type": "display_data"
    },
    {
     "data": {
      "application/vnd.jupyter.widget-view+json": {
       "model_id": "2583c1fabdb449318104e51344242348",
       "version_major": 2,
       "version_minor": 0
      },
      "text/plain": [
       "config.json:   0%|          | 0.00/548 [00:00<?, ?B/s]"
      ]
     },
     "metadata": {},
     "output_type": "display_data"
    },
    {
     "data": {
      "application/vnd.jupyter.widget-view+json": {
       "model_id": "5d83f0adefaf4894b1724eb37da8b890",
       "version_major": 2,
       "version_minor": 0
      },
      "text/plain": [
       "model.safetensors:   0%|          | 0.00/265M [00:00<?, ?B/s]"
      ]
     },
     "metadata": {},
     "output_type": "display_data"
    },
    {
     "name": "stderr",
     "output_type": "stream",
     "text": [
      "Error while downloading from https://cdn-lfs.huggingface.co/sentence-transformers/msmarco-distilbert-base-tas-b/2c01ce345cedea6d10c7fb148658a2bf51aa580b79655106fbc377417b421efa?response-content-disposition=inline%3B+filename*%3DUTF-8%27%27model.safetensors%3B+filename%3D%22model.safetensors%22%3B&Expires=1720994292&Policy=eyJTdGF0ZW1lbnQiOlt7IkNvbmRpdGlvbiI6eyJEYXRlTGVzc1RoYW4iOnsiQVdTOkVwb2NoVGltZSI6MTcyMDk5NDI5Mn19LCJSZXNvdXJjZSI6Imh0dHBzOi8vY2RuLWxmcy5odWdnaW5nZmFjZS5jby9zZW50ZW5jZS10cmFuc2Zvcm1lcnMvbXNtYXJjby1kaXN0aWxiZXJ0LWJhc2UtdGFzLWIvMmMwMWNlMzQ1Y2VkZWE2ZDEwYzdmYjE0ODY1OGEyYmY1MWFhNTgwYjc5NjU1MTA2ZmJjMzc3NDE3YjQyMWVmYT9yZXNwb25zZS1jb250ZW50LWRpc3Bvc2l0aW9uPSoifV19&Signature=QTG91XilhGJn1pqnejr0ZXZJ5EHt5Dq0YNjD1oVMD-fSNE-F51DDW%7Etm3uynURYsOcOaqb6woJc3nzrcvAxgHDARd8z7QDRKu2%7EZwv79vBYK5f23Zdcb-uDM9taMENKD6I5Yq-ED9vG2V%7ERJfau6vS2pBlspppTvYbOypXw7p1LNSPROd%7EbrYB70Y4z9uPGqZWgXk7bYM4MmNeBkI4uR15MFf1jw6yEJKjz0KDTWZZncF4QpExsvNYLyLA9wJJiHDWCh6DMlRl27K5P9iHRGptWz1Exo5qO5BUdjIFN5vrbz8x81NIWGiRhj07V9d5-3ut%7EFb8SrQUeHhesVfrPaAw__&Key-Pair-Id=K3ESJI6DHPFC7: HTTPSConnectionPool(host='cdn-lfs.huggingface.co', port=443): Read timed out.\n",
      "Trying to resume download...\n"
     ]
    },
    {
     "name": "stdout",
     "output_type": "stream",
     "text": [
      "2024-07-12 00:03:17 - Error while downloading from https://cdn-lfs.huggingface.co/sentence-transformers/msmarco-distilbert-base-tas-b/2c01ce345cedea6d10c7fb148658a2bf51aa580b79655106fbc377417b421efa?response-content-disposition=inline%3B+filename*%3DUTF-8%27%27model.safetensors%3B+filename%3D%22model.safetensors%22%3B&Expires=1720994292&Policy=eyJTdGF0ZW1lbnQiOlt7IkNvbmRpdGlvbiI6eyJEYXRlTGVzc1RoYW4iOnsiQVdTOkVwb2NoVGltZSI6MTcyMDk5NDI5Mn19LCJSZXNvdXJjZSI6Imh0dHBzOi8vY2RuLWxmcy5odWdnaW5nZmFjZS5jby9zZW50ZW5jZS10cmFuc2Zvcm1lcnMvbXNtYXJjby1kaXN0aWxiZXJ0LWJhc2UtdGFzLWIvMmMwMWNlMzQ1Y2VkZWE2ZDEwYzdmYjE0ODY1OGEyYmY1MWFhNTgwYjc5NjU1MTA2ZmJjMzc3NDE3YjQyMWVmYT9yZXNwb25zZS1jb250ZW50LWRpc3Bvc2l0aW9uPSoifV19&Signature=QTG91XilhGJn1pqnejr0ZXZJ5EHt5Dq0YNjD1oVMD-fSNE-F51DDW%7Etm3uynURYsOcOaqb6woJc3nzrcvAxgHDARd8z7QDRKu2%7EZwv79vBYK5f23Zdcb-uDM9taMENKD6I5Yq-ED9vG2V%7ERJfau6vS2pBlspppTvYbOypXw7p1LNSPROd%7EbrYB70Y4z9uPGqZWgXk7bYM4MmNeBkI4uR15MFf1jw6yEJKjz0KDTWZZncF4QpExsvNYLyLA9wJJiHDWCh6DMlRl27K5P9iHRGptWz1Exo5qO5BUdjIFN5vrbz8x81NIWGiRhj07V9d5-3ut%7EFb8SrQUeHhesVfrPaAw__&Key-Pair-Id=K3ESJI6DHPFC7: HTTPSConnectionPool(host='cdn-lfs.huggingface.co', port=443): Read timed out.\n",
      "Trying to resume download...\n"
     ]
    },
    {
     "data": {
      "application/vnd.jupyter.widget-view+json": {
       "model_id": "e585f31989f54beeadd216c9470d020f",
       "version_major": 2,
       "version_minor": 0
      },
      "text/plain": [
       "model.safetensors:  67%|######7   | 178M/265M [00:00<?, ?B/s]"
      ]
     },
     "metadata": {},
     "output_type": "display_data"
    },
    {
     "data": {
      "application/vnd.jupyter.widget-view+json": {
       "model_id": "c9f2ca1e364f4cdd894e81d7eef9dae6",
       "version_major": 2,
       "version_minor": 0
      },
      "text/plain": [
       "tokenizer_config.json:   0%|          | 0.00/547 [00:00<?, ?B/s]"
      ]
     },
     "metadata": {},
     "output_type": "display_data"
    },
    {
     "data": {
      "application/vnd.jupyter.widget-view+json": {
       "model_id": "d9235fddd8ed4bbea539cee0bcb2f1b6",
       "version_major": 2,
       "version_minor": 0
      },
      "text/plain": [
       "vocab.txt:   0%|          | 0.00/232k [00:00<?, ?B/s]"
      ]
     },
     "metadata": {},
     "output_type": "display_data"
    },
    {
     "data": {
      "application/vnd.jupyter.widget-view+json": {
       "model_id": "b93b6f6d9cac4c38b8035b6a0957ca5b",
       "version_major": 2,
       "version_minor": 0
      },
      "text/plain": [
       "tokenizer.json:   0%|          | 0.00/466k [00:00<?, ?B/s]"
      ]
     },
     "metadata": {},
     "output_type": "display_data"
    },
    {
     "data": {
      "application/vnd.jupyter.widget-view+json": {
       "model_id": "043decd49fa84e0998170db34641d4f3",
       "version_major": 2,
       "version_minor": 0
      },
      "text/plain": [
       "special_tokens_map.json:   0%|          | 0.00/112 [00:00<?, ?B/s]"
      ]
     },
     "metadata": {},
     "output_type": "display_data"
    },
    {
     "data": {
      "application/vnd.jupyter.widget-view+json": {
       "model_id": "9f504d0bbd5d4593ab5a8387fe445a63",
       "version_major": 2,
       "version_minor": 0
      },
      "text/plain": [
       "1_Pooling/config.json:   0%|          | 0.00/190 [00:00<?, ?B/s]"
      ]
     },
     "metadata": {},
     "output_type": "display_data"
    },
    {
     "name": "stdout",
     "output_type": "stream",
     "text": [
      "2024-07-12 00:05:37 - Encoding Queries...\n"
     ]
    },
    {
     "data": {
      "application/vnd.jupyter.widget-view+json": {
       "model_id": "bd25066c38434623b5e2e46738ade9db",
       "version_major": 2,
       "version_minor": 0
      },
      "text/plain": [
       "Batches:   0%|          | 0/19 [00:00<?, ?it/s]"
      ]
     },
     "metadata": {},
     "output_type": "display_data"
    },
    {
     "name": "stdout",
     "output_type": "stream",
     "text": [
      "2024-07-12 00:05:49 - Sorting Corpus by document length (Longest first)...\n",
      "2024-07-12 00:05:50 - Encoding Corpus in batches... Warning: This might take a while!\n",
      "2024-07-12 00:05:50 - Scoring Function: Dot Product (dot)\n",
      "2024-07-12 00:05:50 - Encoding Batch 1/1...\n"
     ]
    },
    {
     "data": {
      "application/vnd.jupyter.widget-view+json": {
       "model_id": "2b08235a18df415185efdac960c8d237",
       "version_major": 2,
       "version_minor": 0
      },
      "text/plain": [
       "Batches:   0%|          | 0/324 [00:00<?, ?it/s]"
      ]
     },
     "metadata": {},
     "output_type": "display_data"
    },
    {
     "name": "stdout",
     "output_type": "stream",
     "text": [
      "2024-07-12 00:47:22 - For evaluation, we ignore identical query and document ids (default), please explicitly set ``ignore_identical_ids=False`` to ignore this.\n",
      "2024-07-12 00:47:22 - \n",
      "\n",
      "2024-07-12 00:47:22 - NDCG@1: 0.5333\n",
      "2024-07-12 00:47:22 - NDCG@3: 0.5990\n",
      "2024-07-12 00:47:22 - NDCG@5: 0.6215\n",
      "2024-07-12 00:47:22 - NDCG@10: 0.6428\n",
      "2024-07-12 00:47:22 - NDCG@100: 0.6698\n",
      "2024-07-12 00:47:22 - NDCG@1000: 0.6811\n",
      "2024-07-12 00:47:22 - \n",
      "\n",
      "2024-07-12 00:47:22 - MAP@1: 0.5086\n",
      "2024-07-12 00:47:22 - MAP@3: 0.5730\n",
      "2024-07-12 00:47:22 - MAP@5: 0.5892\n",
      "2024-07-12 00:47:22 - MAP@10: 0.5992\n",
      "2024-07-12 00:47:22 - MAP@100: 0.6046\n",
      "2024-07-12 00:47:22 - MAP@1000: 0.6049\n",
      "2024-07-12 00:47:22 - \n",
      "\n",
      "2024-07-12 00:47:22 - Recall@1: 0.5086\n",
      "2024-07-12 00:47:22 - Recall@3: 0.6473\n",
      "2024-07-12 00:47:22 - Recall@5: 0.6998\n",
      "2024-07-12 00:47:22 - Recall@10: 0.7615\n",
      "2024-07-12 00:47:22 - Recall@100: 0.8910\n",
      "2024-07-12 00:47:22 - Recall@1000: 0.9833\n",
      "2024-07-12 00:47:22 - \n",
      "\n",
      "2024-07-12 00:47:22 - P@1: 0.5333\n",
      "2024-07-12 00:47:22 - P@3: 0.2322\n",
      "2024-07-12 00:47:22 - P@5: 0.1560\n",
      "2024-07-12 00:47:22 - P@10: 0.0863\n",
      "2024-07-12 00:47:22 - P@100: 0.0101\n",
      "2024-07-12 00:47:22 - P@1000: 0.0011\n"
     ]
    }
   ],
   "source": [
    "download_path = \"C:\\\\Users\\\\kade\\\\datasets\\\\beir\"\n",
    "\n",
    "from beir import util, LoggingHandler\n",
    "from beir.retrieval import models\n",
    "from beir.datasets.data_loader import GenericDataLoader\n",
    "from beir.retrieval.evaluation import EvaluateRetrieval\n",
    "from beir.retrieval.search.dense import DenseRetrievalExactSearch as DRES\n",
    "\n",
    "import logging\n",
    "import pathlib, os\n",
    "\n",
    "#### Just some code to print debug information to stdout\n",
    "logging.basicConfig(format='%(asctime)s - %(message)s',\n",
    "                    datefmt='%Y-%m-%d %H:%M:%S',\n",
    "                    level=logging.INFO,\n",
    "                    handlers=[LoggingHandler()])\n",
    "#### /print debug information to stdout\n",
    "\n",
    "#### Download scifact.zip dataset and unzip the dataset\n",
    "dataset = \"scifact\"\n",
    "url = \"https://public.ukp.informatik.tu-darmstadt.de/thakur/BEIR/datasets/{}.zip\".format(dataset)\n",
    "#out_dir = os.path.join(pathlib.Path(__file__).parent.absolute(), \"datasets\")\n",
    "out_dir = os.path.join(pathlib.Path(download_path).parent.absolute(), \"datasets\")\n",
    "\n",
    "data_path = util.download_and_unzip(url, out_dir)\n",
    "\n",
    "#### Provide the data_path where scifact has been downloaded and unzipped\n",
    "corpus, queries, qrels = GenericDataLoader(data_folder=data_path).load(split=\"test\")\n",
    "\n",
    "#### Load the SBERT model and retrieve using cosine-similarity\n",
    "model = DRES(models.SentenceBERT(\"msmarco-distilbert-base-tas-b\"), batch_size=16)\n",
    "retriever = EvaluateRetrieval(model, score_function=\"dot\") # or \"cos_sim\" for cosine similarity\n",
    "results = retriever.retrieve(corpus, queries)\n",
    "\n",
    "#### Evaluate your model with NDCG@k, MAP@K, Recall@K and Precision@K  where k = [1,3,5,10,100,1000] \n",
    "ndcg, _map, recall, precision = retriever.evaluate(qrels, results, retriever.k_values)"
   ]
  }
 ],
 "metadata": {
  "kernelspec": {
   "display_name": "base",
   "language": "python",
   "name": "python3"
  },
  "language_info": {
   "codemirror_mode": {
    "name": "ipython",
    "version": 3
   },
   "file_extension": ".py",
   "mimetype": "text/x-python",
   "name": "python",
   "nbconvert_exporter": "python",
   "pygments_lexer": "ipython3",
   "version": "3.12.3"
  }
 },
 "nbformat": 4,
 "nbformat_minor": 2
}
