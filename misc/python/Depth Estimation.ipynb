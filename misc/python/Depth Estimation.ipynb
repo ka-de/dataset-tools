{
 "cells": [
  {
   "cell_type": "code",
   "execution_count": 1,
   "metadata": {},
   "outputs": [
    {
     "data": {
      "application/vnd.jupyter.widget-view+json": {
       "model_id": "66b0cb8fbed940b89baaae4e9dcff6a9",
       "version_major": 2,
       "version_minor": 0
      },
      "text/plain": [
       "VBox(children=(HTML(value='<center> <img\\nsrc=https://huggingface.co/front/assets/huggingface_logo-noborder.sv…"
      ]
     },
     "metadata": {},
     "output_type": "display_data"
    }
   ],
   "source": [
    "from huggingface_hub import notebook_login\n",
    "\n",
    "notebook_login()"
   ]
  },
  {
   "cell_type": "code",
   "execution_count": 4,
   "metadata": {},
   "outputs": [],
   "source": [
    "from transformers import pipeline\n",
    "from PIL import Image\n",
    "import datetime\n",
    "import glob\n",
    "import os\n",
    "\n",
    "# load pipe\n",
    "pipe = pipeline(task=\"depth-estimation\", model=\"depth-anything/Depth-Anything-V2-Small-hf\")\n",
    "\n",
    "# get current date and time\n",
    "now = datetime.datetime.now()\n",
    "\n",
    "# format date and time as string\n",
    "datetime_str = now.strftime(\"%Y%m%d%H%M%S\")\n",
    "\n",
    "# target directory\n",
    "dir_path = 'E:\\\\training_dir_staging\\\\'\n",
    "\n",
    "# file types to process\n",
    "file_types = ['*.png', '*.jpg', '*.jpeg']\n",
    "\n",
    "# iterate over file types\n",
    "for file_type in file_types:\n",
    "    # use glob to recursively find all files of the type in the directory and its subdirectories\n",
    "    for filename in glob.glob(dir_path + '**/' + file_type, recursive=True):\n",
    "        # load image\n",
    "        image = Image.open(filename)\n",
    "\n",
    "        # inference\n",
    "        result = pipe(image)\n",
    "        depth = result[\"depth\"]\n",
    "\n",
    "        # get the base name of the original file\n",
    "        base_name = os.path.splitext(filename)[0]\n",
    "\n",
    "        # save the depth image with \"-depth\" suffix and same extension as the original file\n",
    "        depth.save(f\"{base_name}-depth{os.path.splitext(filename)[1]}\")"
   ]
  }
 ],
 "metadata": {
  "kernelspec": {
   "display_name": "base",
   "language": "python",
   "name": "python3"
  },
  "language_info": {
   "codemirror_mode": {
    "name": "ipython",
    "version": 3
   },
   "file_extension": ".py",
   "mimetype": "text/x-python",
   "name": "python",
   "nbconvert_exporter": "python",
   "pygments_lexer": "ipython3",
   "version": "3.12.3"
  }
 },
 "nbformat": 4,
 "nbformat_minor": 2
}
